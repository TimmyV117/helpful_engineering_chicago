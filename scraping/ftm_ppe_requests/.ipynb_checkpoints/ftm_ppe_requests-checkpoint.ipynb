{
 "cells": [
  {
   "cell_type": "markdown",
   "metadata": {},
   "source": [
    "# Scraping hospitals in Illinois area"
   ]
  },
  {
   "cell_type": "code",
   "execution_count": 22,
   "metadata": {},
   "outputs": [],
   "source": [
    "from requests import get\n",
    "from urllib.request import Request, urlopen\n",
    "from bs4 import BeautifulSoup"
   ]
  },
  {
   "cell_type": "code",
   "execution_count": 47,
   "metadata": {},
   "outputs": [],
   "source": [
    "ppe_illinois_url = 'https://getusppe.org/portfolio/illinois/'\n",
    "ppe_illinois_url2 = 'https://findthemasks.com/give.html?state=il'"
   ]
  },
  {
   "cell_type": "code",
   "execution_count": 48,
   "metadata": {},
   "outputs": [],
   "source": [
    "req = Request(ppe_illinois_url2, headers={'User-Agent': 'Mozilla/5.0'})"
   ]
  },
  {
   "cell_type": "code",
   "execution_count": 49,
   "metadata": {},
   "outputs": [],
   "source": [
    "webpage = urlopen(req).read()"
   ]
  },
  {
   "cell_type": "code",
   "execution_count": 50,
   "metadata": {},
   "outputs": [],
   "source": [
    "page_soup = BeautifulSoup(webpage, \"html.parser\")"
   ]
  },
  {
   "cell_type": "markdown",
   "metadata": {},
   "source": [
    "## ACTUALLY\n",
    "\n",
    "After doing some digging around into why the div tag for `locations-list` wasn't showing it's contents, I found it's because the data table shown is coming from an API call and the \"contents\" don't actually exist in the page. Digging in even more I found that the data is actually one giant JSON blob at https://findthemasks.com/data.json"
   ]
  },
  {
   "cell_type": "code",
   "execution_count": 106,
   "metadata": {},
   "outputs": [],
   "source": [
    "import json"
   ]
  },
  {
   "cell_type": "code",
   "execution_count": 107,
   "metadata": {},
   "outputs": [],
   "source": [
    "url = 'https://findthemasks.com/data.json'"
   ]
  },
  {
   "cell_type": "code",
   "execution_count": 108,
   "metadata": {},
   "outputs": [],
   "source": [
    "blob = get(url)"
   ]
  },
  {
   "cell_type": "code",
   "execution_count": 120,
   "metadata": {},
   "outputs": [],
   "source": [
    "# this will get you the response from the requests.get into json form\n",
    "resp = eval(blob.text)"
   ]
  },
  {
   "cell_type": "code",
   "execution_count": 134,
   "metadata": {},
   "outputs": [],
   "source": [
    "import pandas as pd"
   ]
  },
  {
   "cell_type": "code",
   "execution_count": 135,
   "metadata": {},
   "outputs": [],
   "source": [
    "df = pd.DataFrame(resp)"
   ]
  },
  {
   "cell_type": "code",
   "execution_count": 150,
   "metadata": {},
   "outputs": [
    {
     "data": {
      "text/html": [
       "<div>\n",
       "<style scoped>\n",
       "    .dataframe tbody tr th:only-of-type {\n",
       "        vertical-align: middle;\n",
       "    }\n",
       "\n",
       "    .dataframe tbody tr th {\n",
       "        vertical-align: top;\n",
       "    }\n",
       "\n",
       "    .dataframe thead th {\n",
       "        text-align: right;\n",
       "    }\n",
       "</style>\n",
       "<table border=\"1\" class=\"dataframe\">\n",
       "  <thead>\n",
       "    <tr style=\"text-align: right;\">\n",
       "      <th></th>\n",
       "      <th>range</th>\n",
       "      <th>majorDimension</th>\n",
       "      <th>values</th>\n",
       "    </tr>\n",
       "  </thead>\n",
       "  <tbody>\n",
       "    <tr>\n",
       "      <th>0</th>\n",
       "      <td>'Form Responses 1'!A1:Y2502</td>\n",
       "      <td>ROWS</td>\n",
       "      <td>[Approved, Deduped, Mod Status, Timestamp, Wha...</td>\n",
       "    </tr>\n",
       "    <tr>\n",
       "      <th>1</th>\n",
       "      <td>'Form Responses 1'!A1:Y2502</td>\n",
       "      <td>ROWS</td>\n",
       "      <td>[approved, deduped, residence, timestamp, name...</td>\n",
       "    </tr>\n",
       "    <tr>\n",
       "      <th>2</th>\n",
       "      <td>'Form Responses 1'!A1:Y2502</td>\n",
       "      <td>ROWS</td>\n",
       "      <td>[x, x, , 3/19/2020 11:14:25, Swedish Ballard, ...</td>\n",
       "    </tr>\n",
       "    <tr>\n",
       "      <th>3</th>\n",
       "      <td>'Form Responses 1'!A1:Y2502</td>\n",
       "      <td>ROWS</td>\n",
       "      <td>[x, x, , 3/19/2020 14:37:04, Zuckerberg San Fr...</td>\n",
       "    </tr>\n",
       "    <tr>\n",
       "      <th>4</th>\n",
       "      <td>'Form Responses 1'!A1:Y2502</td>\n",
       "      <td>ROWS</td>\n",
       "      <td>[x, x, , 3/19/2020 15:11:30, Franciscan Women'...</td>\n",
       "    </tr>\n",
       "  </tbody>\n",
       "</table>\n",
       "</div>"
      ],
      "text/plain": [
       "                         range majorDimension  \\\n",
       "0  'Form Responses 1'!A1:Y2502           ROWS   \n",
       "1  'Form Responses 1'!A1:Y2502           ROWS   \n",
       "2  'Form Responses 1'!A1:Y2502           ROWS   \n",
       "3  'Form Responses 1'!A1:Y2502           ROWS   \n",
       "4  'Form Responses 1'!A1:Y2502           ROWS   \n",
       "\n",
       "                                              values  \n",
       "0  [Approved, Deduped, Mod Status, Timestamp, Wha...  \n",
       "1  [approved, deduped, residence, timestamp, name...  \n",
       "2  [x, x, , 3/19/2020 11:14:25, Swedish Ballard, ...  \n",
       "3  [x, x, , 3/19/2020 14:37:04, Zuckerberg San Fr...  \n",
       "4  [x, x, , 3/19/2020 15:11:30, Franciscan Women'...  "
      ]
     },
     "execution_count": 150,
     "metadata": {},
     "output_type": "execute_result"
    }
   ],
   "source": [
    "df.head()"
   ]
  },
  {
   "cell_type": "markdown",
   "metadata": {},
   "source": [
    "It's the `values` key in the resp that has what we need"
   ]
  },
  {
   "cell_type": "code",
   "execution_count": 153,
   "metadata": {},
   "outputs": [],
   "source": [
    "df2 = pd.DataFrame(df['values'])"
   ]
  },
  {
   "cell_type": "code",
   "execution_count": 235,
   "metadata": {},
   "outputs": [
    {
     "data": {
      "text/plain": [
       "['x',\n",
       " 'x',\n",
       " '',\n",
       " '3/19/2020 11:14:25',\n",
       " 'Swedish Ballard',\n",
       " '5300 Tallman Ave NW\\nSeattle, WA 98107',\n",
       " '5300 Tallman Ave NW\\nSeattle, WA 98107',\n",
       " 'Seattle',\n",
       " 'WA',\n",
       " 'Put in donations bin at registration desk or at medical treatment center.',\n",
       " 'N95s, Surgical Masks',\n",
       " 'Yes',\n",
       " '47.6674625',\n",
       " '-122.3795306',\n",
       " 3]"
      ]
     },
     "execution_count": 235,
     "metadata": {},
     "output_type": "execute_result"
    }
   ],
   "source": [
    "import numpy as np\n",
    "idx = np.random.choice(range(len(df.values)))\n",
    "#df2['values'][1]  # contains headers\n",
    "df2['values'][2]  # 2 and onwards contains the actual information you need"
   ]
  },
  {
   "cell_type": "code",
   "execution_count": 176,
   "metadata": {},
   "outputs": [],
   "source": [
    "headers = df2['values'][1]"
   ]
  },
  {
   "cell_type": "code",
   "execution_count": 177,
   "metadata": {},
   "outputs": [
    {
     "data": {
      "text/plain": [
       "['approved',\n",
       " 'deduped',\n",
       " 'residence',\n",
       " 'timestamp',\n",
       " 'name',\n",
       " 'address',\n",
       " 'orig_address',\n",
       " 'city',\n",
       " 'state',\n",
       " 'instructions',\n",
       " 'accepting',\n",
       " 'open_box',\n",
       " 'lat',\n",
       " 'lng',\n",
       " 'row']"
      ]
     },
     "execution_count": 177,
     "metadata": {},
     "output_type": "execute_result"
    }
   ],
   "source": [
    "headers"
   ]
  },
  {
   "cell_type": "code",
   "execution_count": 257,
   "metadata": {},
   "outputs": [],
   "source": [
    "themast_dict = dict\n",
    "themasks_dict = {k: [] for k in headers}"
   ]
  },
  {
   "cell_type": "code",
   "execution_count": 258,
   "metadata": {},
   "outputs": [
    {
     "data": {
      "text/plain": [
       "{'approved': [],\n",
       " 'deduped': [],\n",
       " 'residence': [],\n",
       " 'timestamp': [],\n",
       " 'name': [],\n",
       " 'address': [],\n",
       " 'orig_address': [],\n",
       " 'city': [],\n",
       " 'state': [],\n",
       " 'instructions': [],\n",
       " 'accepting': [],\n",
       " 'open_box': [],\n",
       " 'lat': [],\n",
       " 'lng': [],\n",
       " 'row': []}"
      ]
     },
     "execution_count": 258,
     "metadata": {},
     "output_type": "execute_result"
    }
   ],
   "source": [
    "themasks_dict"
   ]
  },
  {
   "cell_type": "code",
   "execution_count": 239,
   "metadata": {},
   "outputs": [],
   "source": [
    "df3 = pd.DataFrame(df2['values'].iloc[2:]).reset_index(drop=True)"
   ]
  },
  {
   "cell_type": "code",
   "execution_count": 254,
   "metadata": {},
   "outputs": [],
   "source": [
    "\n",
    "df3_test = pd.DataFrame(df3.head(30))"
   ]
  },
  {
   "cell_type": "code",
   "execution_count": 255,
   "metadata": {},
   "outputs": [
    {
     "name": "stdout",
     "output_type": "stream",
     "text": [
      "0 Put in donations bin at registration desk or at medical treatment center.\n",
      "1 For now, call ahead: call the switchboard (628-206-8000), ask for \"Donations Medical Equipment\" or the front desk to arrange drop-off at the main entrance off 23rd St.\n",
      "2 Bring up stairs to the Women's care desk or call and a staff member will come down to get them.\n",
      "3 TBD\n",
      "4 Mail to: Alexa Parker, Emergency Dept.- NNMC, 2375 E Prater Way, Sparks, NV, 89431\n",
      "5 Call 580-379-5000 and ask for Mary Jencks\n",
      "6 Drop off at Erie County Medical Center\n",
      "Attn: Karen Taylor PA-C, UBortho #2\n",
      "7 TBD\n",
      "8 Email smahone4@bidmc.harvard.edu with detailed information including the brand and the quantity of the items you wish to donate. Visit bilh.org/donations for more information.\n",
      "9 First Floor Main Entrance off of Highway 99\n",
      "10 Please leave outside the main entrance and tell security to deliver to the ER\n",
      "11 Please deliver donations to ER security desk\n",
      "12 Leave at front desk\n",
      "13 TBD\n",
      "14 Attn: Spencer Wong, Family Medicine, Clinic 2\n",
      "15 Drop off with waiting room receptionist\n",
      "16 Drop off at front desk and tell them the donations are for the Emergency Department\n",
      "17 Drop off at Emergency Department and leave with registration. Please mark \"For Swedish Issaquah ED workers.\" Feel free to leave a note of encouragement. If anyone is unsure have them get one of the emergency room doctors.\n",
      "18 Drop off at the Logistics Center, 1903 S. 128th between 7am-3pm Monday through Friday. Ring the doorbell at the pedestrian entrance or loading dock. Call 253-905-4574 with questions. \n",
      "19 Main Entrance\n",
      "20 Drop at front gate. This will be residential area\n",
      "21 TBD\n",
      "22 Eunice Yu, third floor internal medicine\n",
      "23 Attention to Dr. Campos: hematology oncology entrance through the heart and lung center \n",
      "24 Please email masks@nyp.org to coordinate. \n",
      "\n",
      "OR\n",
      "\n",
      "For mailing, please send to the following address:\n",
      "Attn: David Chong, MD\n",
      "Milstein Hospital\n",
      "177 Fort Washington Avenue \n",
      "6th floor center 12\n",
      "New York NY 10032\n",
      "\n",
      "OR\n",
      "\n",
      "For curbside dropoffs: please call Angelica Saada (732-829-9684) or (646-965-4479) and she will arrange for someone to come meet you downstairs in the Milstein Hospital Lobby (177 Fort Washington Ave)\n",
      "\n",
      "OR\n",
      "\n",
      "Label \"General Surgery Dept\" and can leave with front desk in lobby\n",
      "\n",
      "\n",
      "OR\n",
      "\n",
      "Drop off at 177 Fort Washington, Attn: Internal Medicine Program Office.\n",
      "25 Drop off or mail to Dr. Paul Natterson’s attention. Mailing address: Providence Saint John’s Health Center, 2121 Santa Monica Blvd, Santa Monica, CA 90404\n",
      "26 Call 310-829-7678 and ask for Lan for curbside drop off, or mail to Pacific Heart Institute, 2001 Santa Monica Blvd, Suite 280W, Santa Monica, CA 90404\n",
      "27 Please call 408-885-5299 before delivery from 8 to 5.\n",
      "28 TBD\n",
      "29 Drop at the ER\n"
     ]
    }
   ],
   "source": [
    "for idx, row in df3_test.iterrows():\n",
    "    print(idx, row[0][9])"
   ]
  },
  {
   "cell_type": "code",
   "execution_count": 259,
   "metadata": {},
   "outputs": [],
   "source": [
    "for idx, roww in df3.iterrows():\n",
    "    themasks_dict['approved'].append(roww[0][0])\n",
    "    themasks_dict['deduped'].append(roww[0][1])\n",
    "    themasks_dict['residence'].append(roww[0][2])\n",
    "    themasks_dict['timestamp'].append(roww[0][3])\n",
    "    themasks_dict['name'].append(roww[0][4])\n",
    "    themasks_dict['address'].append(roww[0][5])\n",
    "    themasks_dict['orig_address'].append(roww[0][6])\n",
    "    themasks_dict['city'].append(roww[0][7])\n",
    "    themasks_dict['state'].append(roww[0][8])\n",
    "    themasks_dict['instructions'].append(roww[0][9])\n",
    "    themasks_dict['accepting'].append(roww[0][10])\n",
    "    themasks_dict['open_box'].append(roww[0][11])\n",
    "    themasks_dict['lat'].append(roww[0][12])\n",
    "    themasks_dict['lng'].append(roww[0][13])\n",
    "    #themasks_dict['row'].append(roww[0][14])"
   ]
  },
  {
   "cell_type": "code",
   "execution_count": 264,
   "metadata": {},
   "outputs": [
    {
     "name": "stdout",
     "output_type": "stream",
     "text": [
      "approved 1981\n",
      "deduped 1981\n",
      "residence 1981\n",
      "timestamp 1981\n",
      "name 1981\n",
      "address 1981\n",
      "orig_address 1981\n",
      "city 1981\n",
      "state 1981\n",
      "instructions 1981\n",
      "accepting 1981\n",
      "open_box 1981\n",
      "lat 1981\n",
      "lng 1981\n",
      "row 0\n"
     ]
    }
   ],
   "source": [
    "for key in themasks_dict.keys():\n",
    "    print(key, len(themasks_dict[key]))"
   ]
  },
  {
   "cell_type": "code",
   "execution_count": 265,
   "metadata": {},
   "outputs": [],
   "source": [
    "del themasks_dict['row']"
   ]
  },
  {
   "cell_type": "code",
   "execution_count": 267,
   "metadata": {},
   "outputs": [],
   "source": [
    "getthemasks_df = pd.DataFrame(themasks_dict)"
   ]
  },
  {
   "cell_type": "code",
   "execution_count": 269,
   "metadata": {},
   "outputs": [],
   "source": [
    "getthemasks_df.to_csv('./getthemasks_requests.csv', index=False)"
   ]
  },
  {
   "cell_type": "code",
   "execution_count": 270,
   "metadata": {},
   "outputs": [],
   "source": [
    "getthemasks_df.to_csv('./piped_getthemasks_requests.csv', index=False, sep='|')"
   ]
  },
  {
   "cell_type": "code",
   "execution_count": 271,
   "metadata": {},
   "outputs": [],
   "source": [
    "df_test = pd.read_csv('piped_getthemasks_requests.csv', sep='|')"
   ]
  },
  {
   "cell_type": "code",
   "execution_count": 272,
   "metadata": {},
   "outputs": [
    {
     "data": {
      "text/html": [
       "<div>\n",
       "<style scoped>\n",
       "    .dataframe tbody tr th:only-of-type {\n",
       "        vertical-align: middle;\n",
       "    }\n",
       "\n",
       "    .dataframe tbody tr th {\n",
       "        vertical-align: top;\n",
       "    }\n",
       "\n",
       "    .dataframe thead th {\n",
       "        text-align: right;\n",
       "    }\n",
       "</style>\n",
       "<table border=\"1\" class=\"dataframe\">\n",
       "  <thead>\n",
       "    <tr style=\"text-align: right;\">\n",
       "      <th></th>\n",
       "      <th>approved</th>\n",
       "      <th>deduped</th>\n",
       "      <th>residence</th>\n",
       "      <th>timestamp</th>\n",
       "      <th>name</th>\n",
       "      <th>address</th>\n",
       "      <th>orig_address</th>\n",
       "      <th>city</th>\n",
       "      <th>state</th>\n",
       "      <th>instructions</th>\n",
       "      <th>accepting</th>\n",
       "      <th>open_box</th>\n",
       "      <th>lat</th>\n",
       "      <th>lng</th>\n",
       "    </tr>\n",
       "  </thead>\n",
       "  <tbody>\n",
       "    <tr>\n",
       "      <th>0</th>\n",
       "      <td>x</td>\n",
       "      <td>x</td>\n",
       "      <td>NaN</td>\n",
       "      <td>3/19/2020 11:14:25</td>\n",
       "      <td>Swedish Ballard</td>\n",
       "      <td>5300 Tallman Ave NW\\nSeattle, WA 98107</td>\n",
       "      <td>5300 Tallman Ave NW\\nSeattle, WA 98107</td>\n",
       "      <td>Seattle</td>\n",
       "      <td>WA</td>\n",
       "      <td>Put in donations bin at registration desk or a...</td>\n",
       "      <td>N95s, Surgical Masks</td>\n",
       "      <td>Yes</td>\n",
       "      <td>47.667462</td>\n",
       "      <td>-122.379531</td>\n",
       "    </tr>\n",
       "    <tr>\n",
       "      <th>1</th>\n",
       "      <td>x</td>\n",
       "      <td>x</td>\n",
       "      <td>NaN</td>\n",
       "      <td>3/19/2020 14:37:04</td>\n",
       "      <td>Zuckerberg San Francisco General Hospital</td>\n",
       "      <td>1001 Potrero Ave\\nSan Francisco, CA 94110</td>\n",
       "      <td>1001 Potrero Ave\\nSan Francisco, CA 94110</td>\n",
       "      <td>San Francisco</td>\n",
       "      <td>CA</td>\n",
       "      <td>For now, call ahead: call the switchboard (628...</td>\n",
       "      <td>N95s, Surgical Masks</td>\n",
       "      <td>No</td>\n",
       "      <td>37.755727</td>\n",
       "      <td>-122.404738</td>\n",
       "    </tr>\n",
       "    <tr>\n",
       "      <th>2</th>\n",
       "      <td>x</td>\n",
       "      <td>x</td>\n",
       "      <td>NaN</td>\n",
       "      <td>3/19/2020 15:11:30</td>\n",
       "      <td>Franciscan Women's Health Associates - Burien</td>\n",
       "      <td>16045 1st Ave S\\nBurien, WA 98148</td>\n",
       "      <td>16045 1st Ave S\\nBurien, WA 98148</td>\n",
       "      <td>Burien</td>\n",
       "      <td>WA</td>\n",
       "      <td>Bring up stairs to the Women's care desk or ca...</td>\n",
       "      <td>N95s, Surgical Masks</td>\n",
       "      <td>Yes</td>\n",
       "      <td>47.458564</td>\n",
       "      <td>-122.333950</td>\n",
       "    </tr>\n",
       "    <tr>\n",
       "      <th>3</th>\n",
       "      <td>x</td>\n",
       "      <td>x</td>\n",
       "      <td>NaN</td>\n",
       "      <td>3/19/2020 15:19:46</td>\n",
       "      <td>Moab Regional Hospital</td>\n",
       "      <td>450 Williams Way\\nMoab, UT 84532</td>\n",
       "      <td>450 Williams Way\\nMoab, UT 84532</td>\n",
       "      <td>Moab</td>\n",
       "      <td>UT</td>\n",
       "      <td>TBD</td>\n",
       "      <td>N95s, Surgical Masks, Safety Goggles</td>\n",
       "      <td>Yes</td>\n",
       "      <td>38.575156</td>\n",
       "      <td>-109.559775</td>\n",
       "    </tr>\n",
       "    <tr>\n",
       "      <th>4</th>\n",
       "      <td>x</td>\n",
       "      <td>x</td>\n",
       "      <td>NaN</td>\n",
       "      <td>3/19/2020 15:52:02</td>\n",
       "      <td>Northern Nevada Medical Center</td>\n",
       "      <td>2375 E. Prater Way\\nSparks, NV 89431</td>\n",
       "      <td>2375 E. Prater Way\\nSparks, NV 89431</td>\n",
       "      <td>Sparks</td>\n",
       "      <td>NV</td>\n",
       "      <td>Mail to: Alexa Parker, Emergency Dept.- NNMC, ...</td>\n",
       "      <td>N95s, Surgical Masks, Disposable Booties, Safe...</td>\n",
       "      <td>Yes</td>\n",
       "      <td>39.541116</td>\n",
       "      <td>-119.697360</td>\n",
       "    </tr>\n",
       "    <tr>\n",
       "      <th>...</th>\n",
       "      <td>...</td>\n",
       "      <td>...</td>\n",
       "      <td>...</td>\n",
       "      <td>...</td>\n",
       "      <td>...</td>\n",
       "      <td>...</td>\n",
       "      <td>...</td>\n",
       "      <td>...</td>\n",
       "      <td>...</td>\n",
       "      <td>...</td>\n",
       "      <td>...</td>\n",
       "      <td>...</td>\n",
       "      <td>...</td>\n",
       "      <td>...</td>\n",
       "    </tr>\n",
       "    <tr>\n",
       "      <th>1976</th>\n",
       "      <td>x</td>\n",
       "      <td>NaN</td>\n",
       "      <td>NaN</td>\n",
       "      <td>3/27/2020 21:36:44</td>\n",
       "      <td>PARC Joliet Nursing</td>\n",
       "      <td>222 N Hammes Ave\\nJoliet, IL 60435</td>\n",
       "      <td>222 north hammes</td>\n",
       "      <td>Joliet</td>\n",
       "      <td>IL</td>\n",
       "      <td>Front desk</td>\n",
       "      <td>N95s, Face shields, Disposable booties, Safety...</td>\n",
       "      <td>Yes</td>\n",
       "      <td>41.527303</td>\n",
       "      <td>-88.131198</td>\n",
       "    </tr>\n",
       "    <tr>\n",
       "      <th>1977</th>\n",
       "      <td>x</td>\n",
       "      <td>NaN</td>\n",
       "      <td>Q</td>\n",
       "      <td>3/27/2020 22:23:19</td>\n",
       "      <td>North Vista Hospital</td>\n",
       "      <td>4011 E Lake Mead Blvd\\nLas Vegas, NV 89115</td>\n",
       "      <td>4011 E Lake Mead</td>\n",
       "      <td>Las vegas</td>\n",
       "      <td>NV</td>\n",
       "      <td>Please call above number ahead of time 702-929...</td>\n",
       "      <td>N95s, Surgical masks, Safety goggles, Gowns, H...</td>\n",
       "      <td>Yes</td>\n",
       "      <td>36.195339</td>\n",
       "      <td>-115.086765</td>\n",
       "    </tr>\n",
       "    <tr>\n",
       "      <th>1978</th>\n",
       "      <td>x</td>\n",
       "      <td>NaN</td>\n",
       "      <td>Q</td>\n",
       "      <td>3/27/2020 22:46:16</td>\n",
       "      <td>The Allergy Center, PA</td>\n",
       "      <td>2395 Hemby Ln\\nGreenville, NC 27834</td>\n",
       "      <td>2395 Hemby Ln</td>\n",
       "      <td>Greenville</td>\n",
       "      <td>NC</td>\n",
       "      <td>2395 Hemby Ln Greenville NC 27834</td>\n",
       "      <td>N95s, Surgical masks</td>\n",
       "      <td>Yes</td>\n",
       "      <td>35.602485</td>\n",
       "      <td>-77.408408</td>\n",
       "    </tr>\n",
       "    <tr>\n",
       "      <th>1979</th>\n",
       "      <td>x</td>\n",
       "      <td>NaN</td>\n",
       "      <td>Q</td>\n",
       "      <td>3/27/2020 22:39:49</td>\n",
       "      <td>Lankenau medical center</td>\n",
       "      <td>100 E Lancaster Ave\\nWynnewood, PA 19096</td>\n",
       "      <td>100 east lancaster ave</td>\n",
       "      <td>Wynnwood</td>\n",
       "      <td>PA</td>\n",
       "      <td>covidsupplydonations@mlhs.org</td>\n",
       "      <td>N95s, Surgical masks, Face shields, Safety gog...</td>\n",
       "      <td>Yes</td>\n",
       "      <td>39.988003</td>\n",
       "      <td>-75.263492</td>\n",
       "    </tr>\n",
       "    <tr>\n",
       "      <th>1980</th>\n",
       "      <td>x</td>\n",
       "      <td>NaN</td>\n",
       "      <td>Q</td>\n",
       "      <td>3/27/2020 22:51:53</td>\n",
       "      <td>St Anthony Hospital</td>\n",
       "      <td>11600 W 2nd Pl\\nLakewood, CO 80228</td>\n",
       "      <td>11600 W 2nd Pl</td>\n",
       "      <td>Lakewood</td>\n",
       "      <td>CO</td>\n",
       "      <td>NaN</td>\n",
       "      <td>N95s, Surgical masks, Face shields, Gloves, Go...</td>\n",
       "      <td>No</td>\n",
       "      <td>39.716313</td>\n",
       "      <td>-105.129363</td>\n",
       "    </tr>\n",
       "  </tbody>\n",
       "</table>\n",
       "<p>1981 rows × 14 columns</p>\n",
       "</div>"
      ],
      "text/plain": [
       "     approved deduped residence           timestamp  \\\n",
       "0           x       x       NaN  3/19/2020 11:14:25   \n",
       "1           x       x       NaN  3/19/2020 14:37:04   \n",
       "2           x       x       NaN  3/19/2020 15:11:30   \n",
       "3           x       x       NaN  3/19/2020 15:19:46   \n",
       "4           x       x       NaN  3/19/2020 15:52:02   \n",
       "...       ...     ...       ...                 ...   \n",
       "1976        x     NaN       NaN  3/27/2020 21:36:44   \n",
       "1977        x     NaN         Q  3/27/2020 22:23:19   \n",
       "1978        x     NaN         Q  3/27/2020 22:46:16   \n",
       "1979        x     NaN         Q  3/27/2020 22:39:49   \n",
       "1980        x     NaN         Q  3/27/2020 22:51:53   \n",
       "\n",
       "                                               name  \\\n",
       "0                                   Swedish Ballard   \n",
       "1         Zuckerberg San Francisco General Hospital   \n",
       "2     Franciscan Women's Health Associates - Burien   \n",
       "3                            Moab Regional Hospital   \n",
       "4                    Northern Nevada Medical Center   \n",
       "...                                             ...   \n",
       "1976                           PARC Joliet Nursing    \n",
       "1977                          North Vista Hospital    \n",
       "1978                         The Allergy Center, PA   \n",
       "1979                        Lankenau medical center   \n",
       "1980                           St Anthony Hospital    \n",
       "\n",
       "                                         address  \\\n",
       "0         5300 Tallman Ave NW\\nSeattle, WA 98107   \n",
       "1      1001 Potrero Ave\\nSan Francisco, CA 94110   \n",
       "2              16045 1st Ave S\\nBurien, WA 98148   \n",
       "3               450 Williams Way\\nMoab, UT 84532   \n",
       "4           2375 E. Prater Way\\nSparks, NV 89431   \n",
       "...                                          ...   \n",
       "1976          222 N Hammes Ave\\nJoliet, IL 60435   \n",
       "1977  4011 E Lake Mead Blvd\\nLas Vegas, NV 89115   \n",
       "1978         2395 Hemby Ln\\nGreenville, NC 27834   \n",
       "1979    100 E Lancaster Ave\\nWynnewood, PA 19096   \n",
       "1980          11600 W 2nd Pl\\nLakewood, CO 80228   \n",
       "\n",
       "                                   orig_address           city state  \\\n",
       "0        5300 Tallman Ave NW\\nSeattle, WA 98107        Seattle    WA   \n",
       "1     1001 Potrero Ave\\nSan Francisco, CA 94110  San Francisco    CA   \n",
       "2             16045 1st Ave S\\nBurien, WA 98148         Burien    WA   \n",
       "3              450 Williams Way\\nMoab, UT 84532           Moab    UT   \n",
       "4          2375 E. Prater Way\\nSparks, NV 89431         Sparks    NV   \n",
       "...                                         ...            ...   ...   \n",
       "1976                          222 north hammes         Joliet     IL   \n",
       "1977                          4011 E Lake Mead       Las vegas    NV   \n",
       "1978                              2395 Hemby Ln    Greenville     NC   \n",
       "1979                    100 east lancaster ave       Wynnwood     PA   \n",
       "1980                             11600 W 2nd Pl       Lakewood    CO   \n",
       "\n",
       "                                           instructions  \\\n",
       "0     Put in donations bin at registration desk or a...   \n",
       "1     For now, call ahead: call the switchboard (628...   \n",
       "2     Bring up stairs to the Women's care desk or ca...   \n",
       "3                                                   TBD   \n",
       "4     Mail to: Alexa Parker, Emergency Dept.- NNMC, ...   \n",
       "...                                                 ...   \n",
       "1976                                         Front desk   \n",
       "1977  Please call above number ahead of time 702-929...   \n",
       "1978                  2395 Hemby Ln Greenville NC 27834   \n",
       "1979                      covidsupplydonations@mlhs.org   \n",
       "1980                                                NaN   \n",
       "\n",
       "                                              accepting open_box        lat  \\\n",
       "0                                  N95s, Surgical Masks      Yes  47.667462   \n",
       "1                                  N95s, Surgical Masks       No  37.755727   \n",
       "2                                  N95s, Surgical Masks      Yes  47.458564   \n",
       "3                  N95s, Surgical Masks, Safety Goggles      Yes  38.575156   \n",
       "4     N95s, Surgical Masks, Disposable Booties, Safe...      Yes  39.541116   \n",
       "...                                                 ...      ...        ...   \n",
       "1976  N95s, Face shields, Disposable booties, Safety...      Yes  41.527303   \n",
       "1977  N95s, Surgical masks, Safety goggles, Gowns, H...      Yes  36.195339   \n",
       "1978                               N95s, Surgical masks      Yes  35.602485   \n",
       "1979  N95s, Surgical masks, Face shields, Safety gog...      Yes  39.988003   \n",
       "1980  N95s, Surgical masks, Face shields, Gloves, Go...       No  39.716313   \n",
       "\n",
       "             lng  \n",
       "0    -122.379531  \n",
       "1    -122.404738  \n",
       "2    -122.333950  \n",
       "3    -109.559775  \n",
       "4    -119.697360  \n",
       "...          ...  \n",
       "1976  -88.131198  \n",
       "1977 -115.086765  \n",
       "1978  -77.408408  \n",
       "1979  -75.263492  \n",
       "1980 -105.129363  \n",
       "\n",
       "[1981 rows x 14 columns]"
      ]
     },
     "execution_count": 272,
     "metadata": {},
     "output_type": "execute_result"
    }
   ],
   "source": [
    "df_test"
   ]
  },
  {
   "cell_type": "code",
   "execution_count": null,
   "metadata": {},
   "outputs": [],
   "source": []
  }
 ],
 "metadata": {
  "kernelspec": {
   "display_name": "Python 3",
   "language": "python",
   "name": "python3"
  },
  "language_info": {
   "codemirror_mode": {
    "name": "ipython",
    "version": 3
   },
   "file_extension": ".py",
   "mimetype": "text/x-python",
   "name": "python",
   "nbconvert_exporter": "python",
   "pygments_lexer": "ipython3",
   "version": "3.8.2"
  }
 },
 "nbformat": 4,
 "nbformat_minor": 4
}
